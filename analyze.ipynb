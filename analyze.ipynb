{
 "cells": [
  {
   "cell_type": "code",
   "execution_count": null,
   "metadata": {},
   "outputs": [],
   "source": [
    "%reload_ext autoreload\n",
    "%autoreload 2\n",
    "\n",
    "from analyze import mult_sim_analysis\n",
    "from constants import out_file_path, DEFAULT_PARAMS"
   ]
  },
  {
   "cell_type": "code",
   "execution_count": null,
   "metadata": {},
   "outputs": [],
   "source": [
    "params = DEFAULT_PARAMS\n",
    "# params.max_group_size = 50\n",
    "# params.Ni = 500\n",
    "\n",
    "mult_sim_analysis(\n",
    "  out_file_path=out_file_path,\n",
    "  params=params,\n",
    "  plots=[\n",
    "    \"flight_freq_by_group_size\",\n",
    "    # \"fitness\",\n",
    "    # \"all_mean_trait_values\"\n",
    "  ]\n",
    ")\n"
   ]
  }
 ],
 "metadata": {
  "kernelspec": {
   "display_name": "base",
   "language": "python",
   "name": "python3"
  },
  "language_info": {
   "codemirror_mode": {
    "name": "ipython",
    "version": 3
   },
   "file_extension": ".py",
   "mimetype": "text/x-python",
   "name": "python",
   "nbconvert_exporter": "python",
   "pygments_lexer": "ipython3",
   "version": "3.11.4"
  }
 },
 "nbformat": 4,
 "nbformat_minor": 2
}
