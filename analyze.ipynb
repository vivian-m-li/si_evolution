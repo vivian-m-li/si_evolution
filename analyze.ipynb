{
 "cells": [
  {
   "cell_type": "code",
   "execution_count": null,
   "metadata": {},
   "outputs": [],
   "source": [
    "%reload_ext autoreload\n",
    "%autoreload 2\n",
    "\n",
    "from analyze import mult_sim_analysis\n",
    "from constants import out_file_path\n",
    "from si_types import OutputParameters"
   ]
  },
  {
   "cell_type": "code",
   "execution_count": null,
   "metadata": {},
   "outputs": [],
   "source": [
    "def get_params_to_analyze(analysis):\n",
    "  params = []\n",
    "  param = \"\"\n",
    "\n",
    "  if analysis == \"pop_size\":\n",
    "    for max_group_size in [15, 25, 50]:\n",
    "      for Ni in [100, 500]:\n",
    "        params.append(OutputParameters(max_group_size=max_group_size, Ni=Ni, group_bin_size=int(max_group_size/5)))\n",
    "    return [params], \"avg_group_size\"\n",
    "  \n",
    "  if analysis == \"group_size\":\n",
    "    for max_group_size in [5, 10, 15, 20, 25, 30, 40, 50, 100]:\n",
    "      params.append(OutputParameters(max_group_size=max_group_size, Ni=100, group_bin_size=int(max_group_size/5)))\n",
    "    return [params], \"avg_group_size\"\n",
    "  \n",
    "  if analysis == \"pred\":\n",
    "    for prob_pred in [0, 0.002, 0.005, 0.01, 0.02, 0.04, 0.06, 0.08, 0.1, 0.2]:\n",
    "    # for prob_pred in [0, 0.002, 0.005, 0.01, 0.02, 0.04, 0.06, 0.08, 0.1, 0.12, 0.14, 0.16, 0.18, 0.2]:\n",
    "      params.append(OutputParameters(prob_pred=prob_pred))\n",
    "    return [params], \"prob_pred\"\n",
    "\n",
    "  if analysis == \"e_gain/prob_pred\":\n",
    "    for e_gain in [0.5, 1, 1.5, 2]:\n",
    "      params.append([])\n",
    "      for prob_pred in [0.02, 0.06, 0.08, 0.1, 0.2]:\n",
    "        params[-1].append(OutputParameters(prob_pred=prob_pred, e_gain=e_gain))\n",
    "    return params, \"prob_pred\"\n",
    "\n",
    "  return params, param\n",
    "\n",
    "def run_mult_sim_analysis(params, param):\n",
    "  for param_set in params:\n",
    "    mult_sim_analysis(\n",
    "      out_file_path=out_file_path,\n",
    "      all_params=param_set,\n",
    "      plots=[\n",
    "        # \"flight_freq_by_group_size\",\n",
    "        # \"fitness\",\n",
    "        # \"all_mean_trait_values\",\n",
    "        # \"avg_flight\",\n",
    "        \"detected_nondetected_pred_deaths\",\n",
    "        \"total_deaths_per_gen\",\n",
    "        \"final_fitness\",\n",
    "        \"final_trait_values\",\n",
    "        \"final_flight_freq\",\n",
    "        \"kills_per_visits_per_gen\",\n",
    "        \"final_kills_per_visits\"\n",
    "      ],\n",
    "      param=param,\n",
    "    )\n",
    "\n",
    "params, param = get_params_to_analyze(\"group_size\")\n",
    "run_mult_sim_analysis(params, param)"
   ]
  }
 ],
 "metadata": {
  "kernelspec": {
   "display_name": "base",
   "language": "python",
   "name": "python3"
  },
  "language_info": {
   "codemirror_mode": {
    "name": "ipython",
    "version": 3
   },
   "file_extension": ".py",
   "mimetype": "text/x-python",
   "name": "python",
   "nbconvert_exporter": "python",
   "pygments_lexer": "ipython3",
   "version": "3.11.4"
  }
 },
 "nbformat": 4,
 "nbformat_minor": 2
}
